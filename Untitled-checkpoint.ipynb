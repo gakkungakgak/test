{
 "cells": [
  {
   "cell_type": "code",
   "execution_count": null,
   "id": "1708d07e",
   "metadata": {},
   "outputs": [
    {
     "name": "stdout",
     "output_type": "stream",
     "text": [
      "サンプルHTMLファイル 'templates\\index.html' を作成しました。\n",
      " * Serving Flask app \"__main__\" (lazy loading)\n",
      " * Environment: production\n",
      "\u001b[31m   WARNING: This is a development server. Do not use it in a production deployment.\u001b[0m\n",
      "\u001b[2m   Use a production WSGI server instead.\u001b[0m\n",
      " * Debug mode: on\n"
     ]
    },
    {
     "name": "stderr",
     "output_type": "stream",
     "text": [
      " * Running on http://127.0.0.1:5000/ (Press CTRL+C to quit)\n",
      "127.0.0.1 - - [30/May/2025 17:19:11] \"GET / HTTP/1.1\" 200 -\n",
      "127.0.0.1 - - [30/May/2025 17:19:12] \"GET /favicon.ico HTTP/1.1\" 404 -\n",
      "127.0.0.1 - - [30/May/2025 17:19:15] \"GET /download_excel HTTP/1.1\" 500 -\n"
     ]
    },
    {
     "name": "stdout",
     "output_type": "stream",
     "text": [
      "Excelデータをメモリ上で生成しました: サーモンエクセル出力_2025-05-30_17-19-14.xlsx\n",
      "Excelファイルの生成または送信中にエラーが発生しました: send_file() got an unexpected keyword argument 'download_name'\n"
     ]
    },
    {
     "name": "stderr",
     "output_type": "stream",
     "text": [
      "127.0.0.1 - - [30/May/2025 17:19:28] \"GET /download_excel HTTP/1.1\" 500 -\n"
     ]
    },
    {
     "name": "stdout",
     "output_type": "stream",
     "text": [
      "Excelデータをメモリ上で生成しました: サーモンエクセル出力_2025-05-30_17-19-28.xlsx\n",
      "Excelファイルの生成または送信中にエラーが発生しました: send_file() got an unexpected keyword argument 'download_name'\n"
     ]
    }
   ],
   "source": [
    "# -*- coding: utf-8 -*-\n",
    "from flask import Flask, render_template, send_file, request # request を追加\n",
    "import requests\n",
    "import pandas as pd\n",
    "from io import StringIO, BytesIO # StringIO と BytesIO を両方インポート\n",
    "from requests.auth import HTTPBasicAuth\n",
    "from datetime import datetime\n",
    "import os\n",
    "\n",
    "app = Flask(__name__)\n",
    "\n",
    "# --- 最初のコードの機能 (Excelダウンロード) ---\n",
    "@app.route('/')\n",
    "def index():\n",
    "    # このHTMLに両方のダウンロード機能へのリンク/フォームを置く想定\n",
    "    # 下の if __name__ == \"__main__\": ブロックでサンプルHTMLを生成します\n",
    "    return render_template('index.html')\n",
    "\n",
    "@app.route('/download_excel') # ★パス名を変更 (元: /download)\n",
    "def download_excel_file(): # ★関数名を変更\n",
    "    # URLと認証情報\n",
    "    url = \"https://api.buoy.jp/diary/saba/list_all_diary_csv.php?uuid=E13A4D7AB3B4464F9E1F83B80891232C\"\n",
    "    username = \"futami\"\n",
    "    password = \"salmon\"\n",
    "\n",
    "    # CSVデータを取得\n",
    "    try:\n",
    "        response = requests.get(url, auth=HTTPBasicAuth(username, password), timeout=10)\n",
    "        response.raise_for_status()\n",
    "    except requests.exceptions.RequestException as e:\n",
    "        error_message = f\"Excel用データの取得に失敗しました: {e}\"\n",
    "        print(error_message)\n",
    "        return error_message, 500\n",
    "\n",
    "    # CSV文字列をDataFrameに変換\n",
    "    csv_data = StringIO(response.text)\n",
    "    try:\n",
    "        df = pd.read_csv(csv_data, header=None)\n",
    "        df.columns = [\"\",\"日付\",\"いけす番号\",\"\",\"\",\"\",\"生残量\",\"総重量\",\"へい死\",\"作業へい死\",\n",
    "                      \"その他\",\"給餌量\",\"水温\",\"DO\",\"時間\",\"餌種\",\"食欲\",\"池掃除\",\"水質\",\"天候\",\n",
    "                      \"取水口水位\",\"備考\",\"実行者\",\"\",\"\",\"\",\"\",\"\",\"\",\"\",\n",
    "                      \"\",\"\",\"\",\"\",\"\",\"\",\"\",\"\",\"\",\"\",\"\",\"\",\"\",\"\",\"\",]\n",
    "    except pd.errors.EmptyDataError:\n",
    "        error_message = \"取得したExcel用CSVデータが空です。\"\n",
    "        print(error_message)\n",
    "        return error_message, 500\n",
    "    except Exception as e:\n",
    "        error_message = f\"Excel用CSVデータの処理中にエラーが発生しました: {e}\"\n",
    "        print(error_message)\n",
    "        return error_message, 500\n",
    "\n",
    "    # Excelファイル名を設定\n",
    "    now = datetime.now().strftime(\"%Y-%m-%d_%H-%M-%S\")\n",
    "    output_filename = f\"サーモンエクセル出力_{now}.xlsx\"\n",
    "    \n",
    "    try:\n",
    "        # DataFrameをExcelファイルとしてメモリ上のバッファに保存\n",
    "        excel_buffer = BytesIO()\n",
    "        df.to_excel(excel_buffer, index=False, engine='openpyxl') # engine='openpyxl' を推奨\n",
    "        excel_buffer.seek(0) # バッファの先頭にポインタを移動\n",
    "        print(f\"Excelデータをメモリ上で生成しました: {output_filename}\")\n",
    "\n",
    "        # send_fileでメモリ上のデータをクライアントに送信\n",
    "        return send_file(\n",
    "            excel_buffer,\n",
    "            as_attachment=True,\n",
    "            download_name=output_filename,\n",
    "            mimetype='application/vnd.openxmlformats-officedocument.spreadsheetml.sheet' # Excel用のMIMEタイプ\n",
    "        )\n",
    "    except Exception as e:\n",
    "        error_message = f\"Excelファイルの生成または送信中にエラーが発生しました: {e}\"\n",
    "        print(error_message)\n",
    "        return error_message, 500\n",
    "\n",
    "# --- 2番目のコードの機能 (CSVダウンロード) ---\n",
    "@app.route(\"/download_csv\", methods=[\"POST\"]) # ★パス名を変更 (元: /download)\n",
    "def download_csv_file(): # ★関数名を変更\n",
    "    category = request.form.get(\"category\")\n",
    "\n",
    "    if category == \"students\":\n",
    "        df = pd.DataFrame({\n",
    "            \"名前\": [\"田中\", \"佐藤\", \"鈴木\"],\n",
    "            \"年齢\": [20, 21, 22]\n",
    "        })\n",
    "        filename = \"students.csv\"\n",
    "    elif category == \"products\":\n",
    "        df = pd.DataFrame({\n",
    "            \"商品名\": [\"りんご\", \"バナナ\", \"みかん\"],\n",
    "            \"価格\": [100, 80, 90]\n",
    "        })\n",
    "        filename = \"products.csv\"\n",
    "    else:\n",
    "        return \"不正なカテゴリです\", 400\n",
    "\n",
    "    # CSVをメモリ上のバッファに保存\n",
    "    csv_buffer = BytesIO()\n",
    "    df.to_csv(csv_buffer, index=False, encoding=\"utf-8-sig\") # Excelでの文字化け対策\n",
    "    csv_buffer.seek(0) # バッファの先頭にポインタを移動\n",
    "\n",
    "    return send_file(\n",
    "        csv_buffer,\n",
    "        as_attachment=True,\n",
    "        download_name=filename,\n",
    "        mimetype=\"text/csv\"\n",
    "    )\n",
    "\n",
    "if __name__ == \"__main__\":\n",
    "    # 'templates' フォルダとサンプル 'index.html' の準備\n",
    "    templates_dir = \"templates\"\n",
    "    index_html_path = os.path.join(templates_dir, \"index.html\")\n",
    "\n",
    "    if not os.path.exists(templates_dir):\n",
    "        os.makedirs(templates_dir)\n",
    "        print(f\"フォルダ '{templates_dir}' を作成しました。\")\n"
   ]
  },
  {
   "cell_type": "code",
   "execution_count": null,
   "id": "62956d96",
   "metadata": {},
   "outputs": [],
   "source": []
  }
 ],
 "metadata": {
  "kernelspec": {
   "display_name": "Python 3 (ipykernel)",
   "language": "python",
   "name": "python3"
  },
  "language_info": {
   "codemirror_mode": {
    "name": "ipython",
    "version": 3
   },
   "file_extension": ".py",
   "mimetype": "text/x-python",
   "name": "python",
   "nbconvert_exporter": "python",
   "pygments_lexer": "ipython3",
   "version": "3.9.12"
  }
 },
 "nbformat": 4,
 "nbformat_minor": 5
}
